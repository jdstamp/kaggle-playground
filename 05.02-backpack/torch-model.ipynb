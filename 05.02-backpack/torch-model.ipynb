{
 "cells": [
  {
   "cell_type": "markdown",
   "source": [
    "# Data Exploration for the Kaggle Backpack Challenge"
   ],
   "metadata": {
    "collapsed": false
   },
   "id": "4fa8d76a25df43f3"
  },
  {
   "cell_type": "code",
   "execution_count": 1,
   "outputs": [],
   "source": [
    "import os\n",
    "from dotenv import load_dotenv\n",
    "import torch.nn as nn\n",
    "import torch\n",
    "from torch.utils.data import DataLoader, Dataset\n",
    "import torch.nn.functional as F\n",
    "import pandas as pd"
   ],
   "metadata": {
    "collapsed": false,
    "ExecuteTime": {
     "end_time": "2025-03-01T12:39:24.833497Z",
     "start_time": "2025-03-01T12:39:12.671969Z"
    }
   },
   "id": "459dc4167023b73a"
  },
  {
   "cell_type": "code",
   "execution_count": 4,
   "outputs": [],
   "source": [
    "load_dotenv()\n",
    "kaggle_data_dir = os.getenv(\"KAGGLE_DATA_DIR\")"
   ],
   "metadata": {
    "collapsed": false,
    "ExecuteTime": {
     "end_time": "2025-03-01T12:40:29.023999Z",
     "start_time": "2025-03-01T12:40:29.019798Z"
    }
   },
   "id": "ef30ac1d9e53414e"
  },
  {
   "cell_type": "code",
   "execution_count": 12,
   "outputs": [
    {
     "data": {
      "text/plain": "(246686, 11)"
     },
     "execution_count": 12,
     "metadata": {},
     "output_type": "execute_result"
    }
   ],
   "source": [
    "data_path = os.path.join(kaggle_data_dir, '05.02-backpack')\n",
    "df = pd.read_csv(os.path.join(data_path, 'train.csv')).dropna()\n",
    "df.shape"
   ],
   "metadata": {
    "collapsed": false,
    "ExecuteTime": {
     "end_time": "2025-03-01T13:31:48.830447Z",
     "start_time": "2025-03-01T13:31:48.594145Z"
    }
   },
   "id": "29bac0a7ab4e917a"
  },
  {
   "cell_type": "code",
   "execution_count": 6,
   "outputs": [],
   "source": [
    "class KaggleBackpackDataset(Dataset):\n",
    "  def __init__(self, train_csv):\n",
    "    self.categorical_vars = [\"Brand\", \"Material\", \"Size\", \"Laptop Compartment\", \"Waterproof\", \"Style\", \"Color\"]\n",
    "    self.df = pd.read_csv(train_csv).dropna()\n",
    "    self.id = torch.tensor(self.df.iloc[:, 0].values, dtype=torch.int)\n",
    "    self.features = torch.tensor(self.df.iloc[:,[4, 9]].values, dtype=torch.float32)\n",
    "    \n",
    "    for cat in self.categorical_vars:        \n",
    "        df = pd.Categorical(self.df[cat])\n",
    "        category_codes = torch.tensor(df.codes, dtype=torch.long)\n",
    "        num_classes = len(df.categories)\n",
    "        one_hot_encoded = F.one_hot(category_codes, num_classes=num_classes)\n",
    "        self.features = torch.cat((self.features, one_hot_encoded), dim=1)\n",
    "    \n",
    "    if (\"Price\" in self.df.columns):\n",
    "        self.target = torch.tensor(self.df[\"Price\"].to_numpy(), dtype=torch.float32).unsqueeze(1)  # Ensure (N, 1) shape\n",
    "    else:\n",
    "        self.target = torch.zeros(self.features.shape[0], dtype=torch.float32)\n",
    "\n",
    "  def __len__(self):\n",
    "    return len(self.df)\n",
    "\n",
    "  def __getitem__(self, idx):\n",
    "    return self.id[idx], self.features[idx], self.target[idx]\n",
    "    \n",
    "    return features, target"
   ],
   "metadata": {
    "collapsed": false,
    "ExecuteTime": {
     "end_time": "2025-03-01T12:40:33.647503Z",
     "start_time": "2025-03-01T12:40:33.644989Z"
    }
   },
   "id": "e1fc7352e363eccd"
  },
  {
   "cell_type": "code",
   "execution_count": 7,
   "outputs": [],
   "source": [
    "class BackpackPricePredictor(nn.Module):\n",
    "    def __init__(self, input_dim=27):\n",
    "        super(BackpackPricePredictor, self).__init__()\n",
    "        self.fc1 = nn.Linear(input_dim, 64)\n",
    "        self.fc2 = nn.Linear(64, 32)\n",
    "        self.fc3 = nn.Linear(32, 1)  # Output layer for regression\n",
    "\n",
    "    def forward(self, x):\n",
    "        x = F.relu(self.fc1(x))\n",
    "        x = F.relu(self.fc2(x))\n",
    "        x = self.fc3(x)  # No activation for regression output\n",
    "        return x"
   ],
   "metadata": {
    "collapsed": false,
    "ExecuteTime": {
     "end_time": "2025-03-01T12:40:35.584896Z",
     "start_time": "2025-03-01T12:40:35.582444Z"
    }
   },
   "id": "7fc8af107870e64f"
  },
  {
   "cell_type": "code",
   "execution_count": 10,
   "outputs": [
    {
     "name": "stdout",
     "output_type": "stream",
     "text": [
      "Epoch 1/20, Loss: 1555.4445\n",
      "Epoch 2/20, Loss: 1529.7090\n",
      "Epoch 3/20, Loss: 1524.6694\n",
      "Epoch 4/20, Loss: 1523.6303\n",
      "Epoch 5/20, Loss: 1523.6691\n",
      "Epoch 6/20, Loss: 1524.1299\n",
      "Epoch 7/20, Loss: 1521.9901\n",
      "Epoch 8/20, Loss: 1522.8204\n",
      "Epoch 9/20, Loss: 1522.1984\n",
      "Epoch 10/20, Loss: 1521.9411\n",
      "Epoch 11/20, Loss: 1521.8343\n",
      "Epoch 12/20, Loss: 1521.0439\n",
      "Epoch 13/20, Loss: 1521.1049\n",
      "Epoch 14/20, Loss: 1521.3615\n",
      "Epoch 15/20, Loss: 1520.4470\n",
      "Epoch 16/20, Loss: 1520.0286\n",
      "Epoch 17/20, Loss: 1520.3987\n",
      "Epoch 18/20, Loss: 1519.7741\n",
      "Epoch 19/20, Loss: 1519.7583\n",
      "Epoch 20/20, Loss: 1519.5202\n"
     ]
    }
   ],
   "source": [
    "# Load dataset\n",
    "dataset = KaggleBackpackDataset(os.path.join(data_path, 'train.csv'))\n",
    "dataloader = DataLoader(dataset, batch_size=32, shuffle=True)\n",
    "\n",
    "# Initialize model\n",
    "model = BackpackPricePredictor()\n",
    "criterion = nn.MSELoss()  # Mean Squared Error for regression\n",
    "optimizer = torch.optim.Adam(model.parameters(), lr=0.01)\n",
    "\n",
    "# Training loop\n",
    "epochs = 20\n",
    "for epoch in range(epochs):\n",
    "    epoch_loss = 0\n",
    "    for batch_ids, batch_features, batch_targets in dataloader:\n",
    "        optimizer.zero_grad()\n",
    "        predictions = model(batch_features)\n",
    "        loss = criterion(predictions, batch_targets)\n",
    "        loss.backward()\n",
    "        optimizer.step()\n",
    "        epoch_loss += loss.item()\n",
    "    \n",
    "    print(f\"Epoch {epoch+1}/{epochs}, Loss: {epoch_loss/len(dataloader):.4f}\")"
   ],
   "metadata": {
    "collapsed": false,
    "ExecuteTime": {
     "end_time": "2025-03-01T12:43:32.326678Z",
     "start_time": "2025-03-01T12:42:46.770254Z"
    }
   },
   "id": "ca130e3e30968c8f"
  },
  {
   "cell_type": "code",
   "execution_count": 11,
   "outputs": [
    {
     "name": "stdout",
     "output_type": "stream",
     "text": [
      "Predicted Price: 78.79701232910156, Actual Price: 112.15875244140625\n"
     ]
    }
   ],
   "source": [
    "# Test on a sample\n",
    "test_id, test_sample, test_target = dataset[0]\n",
    "test_sample = test_sample.unsqueeze(0)  # Add batch dimension\n",
    "\n",
    "predicted_price = model(test_sample).item()\n",
    "print(f\"Predicted Price: {predicted_price}, Actual Price: {test_target.item()}\")"
   ],
   "metadata": {
    "collapsed": false,
    "ExecuteTime": {
     "end_time": "2025-03-01T12:44:18.025991Z",
     "start_time": "2025-03-01T12:44:18.021535Z"
    }
   },
   "id": "6179a9a86d7edf14"
  },
  {
   "cell_type": "code",
   "execution_count": 83,
   "outputs": [
    {
     "data": {
      "text/plain": "       id      Price\n0  300000  82.199867\n1  300001  81.780060\n2  300002  81.446991\n3  300003  81.971878\n4  300005  79.979500",
      "text/html": "<div>\n<style scoped>\n    .dataframe tbody tr th:only-of-type {\n        vertical-align: middle;\n    }\n\n    .dataframe tbody tr th {\n        vertical-align: top;\n    }\n\n    .dataframe thead th {\n        text-align: right;\n    }\n</style>\n<table border=\"1\" class=\"dataframe\">\n  <thead>\n    <tr style=\"text-align: right;\">\n      <th></th>\n      <th>id</th>\n      <th>Price</th>\n    </tr>\n  </thead>\n  <tbody>\n    <tr>\n      <th>0</th>\n      <td>300000</td>\n      <td>82.199867</td>\n    </tr>\n    <tr>\n      <th>1</th>\n      <td>300001</td>\n      <td>81.780060</td>\n    </tr>\n    <tr>\n      <th>2</th>\n      <td>300002</td>\n      <td>81.446991</td>\n    </tr>\n    <tr>\n      <th>3</th>\n      <td>300003</td>\n      <td>81.971878</td>\n    </tr>\n    <tr>\n      <th>4</th>\n      <td>300005</td>\n      <td>79.979500</td>\n    </tr>\n  </tbody>\n</table>\n</div>"
     },
     "execution_count": 83,
     "metadata": {},
     "output_type": "execute_result"
    }
   ],
   "source": [
    "# Define the validation function\n",
    "def validate_model(model, test_csv, batch_size=32):\n",
    "    # Load test dataset\n",
    "    test_dataset = KaggleBackpackDataset(test_csv)\n",
    "    test_loader = DataLoader(test_dataset, batch_size=batch_size, shuffle=False)\n",
    "\n",
    "    # Loss function\n",
    "    criterion = nn.MSELoss()\n",
    "\n",
    "    model.eval()  # Set model to evaluation mode\n",
    "    total_loss = 0\n",
    "    total_samples = 0\n",
    "    mae_loss = 0\n",
    "    \n",
    "    # List to store predictions\n",
    "    prediction_results = []\n",
    "\n",
    "    with torch.no_grad():  # Disable gradient computation\n",
    "        for id, features, targets in test_loader:\n",
    "            predictions = model(features)           \n",
    "            for id, predicted_price in zip(id, predictions):\n",
    "                prediction_results.append((id.item(), predicted_price.item()))\n",
    "\n",
    "    \n",
    "    # Create DataFrame and save to CSV\n",
    "    df_predictions = pd.DataFrame(prediction_results, columns=[\"id\", \"Price\"])\n",
    "    return df_predictions\n",
    "    # df_predictions.to_csv(\"../data/predictions.csv\", index=False)\n",
    "# Example usage (after training your model)\n",
    "# model = YourTrainedModel()  # Load trained model\n",
    "df_predictions = validate_model(model, \"../data/test.csv\")\n",
    "df_predictions.head()"
   ],
   "metadata": {
    "collapsed": false,
    "ExecuteTime": {
     "end_time": "2025-02-28T22:15:23.281144Z",
     "start_time": "2025-02-28T22:15:22.164358Z"
    }
   },
   "id": "dc850829ab73a97f"
  },
  {
   "cell_type": "code",
   "execution_count": null,
   "outputs": [],
   "source": [],
   "metadata": {
    "collapsed": false
   },
   "id": "ff187f580e092c40"
  }
 ],
 "metadata": {
  "kernelspec": {
   "display_name": "Python 3",
   "language": "python",
   "name": "python3"
  },
  "language_info": {
   "codemirror_mode": {
    "name": "ipython",
    "version": 2
   },
   "file_extension": ".py",
   "mimetype": "text/x-python",
   "name": "python",
   "nbconvert_exporter": "python",
   "pygments_lexer": "ipython2",
   "version": "2.7.6"
  }
 },
 "nbformat": 4,
 "nbformat_minor": 5
}
